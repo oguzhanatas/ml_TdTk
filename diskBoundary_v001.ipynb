{
  "nbformat": 4,
  "nbformat_minor": 0,
  "metadata": {
    "colab": {
      "provenance": [],
      "collapsed_sections": [],
      "authorship_tag": "ABX9TyMqw1s3ET3Tcd0txzBDUM8E",
      "include_colab_link": true
    },
    "kernelspec": {
      "name": "python3",
      "display_name": "Python 3"
    },
    "language_info": {
      "name": "python"
    }
  },
  "cells": [
    {
      "cell_type": "markdown",
      "metadata": {
        "id": "view-in-github",
        "colab_type": "text"
      },
      "source": [
        "<a href=\"https://colab.research.google.com/github/oguzhanatas/ml_TdTk/blob/main/diskBoundary_v001.ipynb\" target=\"_parent\"><img src=\"https://colab.research.google.com/assets/colab-badge.svg\" alt=\"Open In Colab\"/></a>"
      ]
    },
    {
      "cell_type": "code",
      "execution_count": 16,
      "metadata": {
        "colab": {
          "base_uri": "https://localhost:8080/"
        },
        "id": "vUgDwjkgfNbm",
        "outputId": "52104c3d-ae8b-4a19-9687-9a1f272cf979"
      },
      "outputs": [
        {
          "output_type": "stream",
          "name": "stdout",
          "text": [
            "Mounted at /content/drive\n"
          ]
        }
      ],
      "source": [
        "#https://www.tensorflow.org/tutorials/customization/custom_training_walkthrough\n",
        "import numpy as np\n",
        "import pandas as pd\n",
        "import seaborn as sns\n",
        "\n",
        "import matplotlib.pyplot as plt\n",
        "import matplotlib\n",
        "\n",
        "import tensorflow as tf\n",
        "from tensorflow import keras\n",
        "\n",
        "from sklearn.model_selection import train_test_split\n",
        "from tensorflow.keras import layers\n",
        "from tensorflow.keras.layers.experimental import preprocessing\n",
        "from tqdm.keras import TqdmCallback\n",
        "tf.__version__\n",
        "\n",
        "from google.colab import drive\n",
        "drive.mount('/content/drive',force_remount=True)\n",
        "path_of_folder = '/content/drive/My Drive/Colab Notebooks/'\n",
        "data = path_of_folder + 'colab_data/21_RC_SigmaPi005Galpy_new.csv'\n",
        "\n",
        "path_pop_boundry=path_of_folder +'colab_data/desicion_boundary_rc.txt'"
      ]
    },
    {
      "cell_type": "code",
      "source": [
        "#column_names=['feh_all','alphafe','snr_a','snr_ort_galah','U','V','W','parallax']\n",
        "rc = pd.read_csv(data, sep=\",\",low_memory=False)\n",
        "#for i in rc.columns:\n",
        "#  print(i)\n",
        "\n",
        "dataframe=pd.DataFrame({'alphafe':rc['alphafe'],'feh':rc['feh_all'],'snr_a':rc['snr_a'],'snr_g':rc['snr_ort_galah'],'U':rc['U'],'V':rc['V'],'W':rc['W']},index=None).dropna()\n",
        "print(dataframe.isna().sum())\n",
        "print(len(dataframe))\n",
        "#print(dataframe.head())\n",
        "\n",
        "\n",
        "#dataframe=rc.copy()\n",
        "pop_boundry=np.loadtxt(path_pop_boundry,delimiter=',')\n",
        "#pop ayrimi cizgisi\n",
        "pop_x=np.array(pop_boundry[:,0])\n",
        "pop_y=np.array(pop_boundry[:,1])\n",
        "coefs = np.polyfit(pop_x, pop_y, 2)\n",
        "pop_sel_func = np.poly1d(coefs)\n",
        "pop_sel_value= pop_sel_func(dataframe['feh'])\n",
        "thin_mask = (dataframe['alphafe'] <= pop_sel_value)\n",
        "thick_mask = (dataframe['alphafe'] > pop_sel_value)\n",
        "\n",
        "\n",
        "thin_data=dataframe[thin_mask]\n",
        "thin_data['population']=[0]*len(thin_data)\n",
        "thick_data=dataframe[thick_mask]\n",
        "thick_data['population']=[1]*len(thick_data)\n",
        "\n",
        "#dataset = thin_data2.append(thick_data2,ignore_index=True, sort=False)\n",
        "dataset=pd.concat([thin_data,thick_data],ignore_index=True, axis=0,)\n",
        "print(dataset.head())\n",
        "print(dataset.isna().sum())\n",
        "\n",
        "\n",
        "plt.scatter(dataset['feh'],dataset['alphafe'],c=dataset['population'],s=2,label='{}'.format(len(dataset['population'][(dataset['population']==0)|(dataset['population']==1)])))\n",
        "plt.legend()\n",
        "print('tot:{}, pop1: {}, pop0: {}, popNaN: {}'.format(len(dataset['population']),len(dataset['population'][dataset['population']==1]),len(dataset['population'][dataset['population']==0]),dataset['population'].isnull().sum()))\n",
        "print(len(dataset['population'][dataset['population']==1])+len(dataset['population'][dataset['population']==0])+dataset['population'].isnull().sum())"
      ],
      "metadata": {
        "colab": {
          "base_uri": "https://localhost:8080/",
          "height": 1000
        },
        "id": "JJNVA9NDf-23",
        "outputId": "09767ee2-f07a-4af6-d726-a5629ddb5641"
      },
      "execution_count": 17,
      "outputs": [
        {
          "output_type": "stream",
          "name": "stdout",
          "text": [
            "alphafe    0\n",
            "feh        0\n",
            "snr_a      0\n",
            "snr_g      0\n",
            "U          0\n",
            "V          0\n",
            "W          0\n",
            "dtype: int64\n",
            "42047\n",
            "    alphafe       feh       snr_a   snr_g          U          V          W  \\\n",
            "0  0.032994  0.060205  343.740997 -9999.0 -15.118205 -27.462988  23.921085   \n",
            "1  0.054181 -0.299762  205.179001 -9999.0 -44.877055   1.330864  -0.352611   \n",
            "2  0.036741  0.029631  171.550003 -9999.0  -8.422155 -28.833191 -16.602430   \n",
            "3  0.044084 -0.314392  265.123993 -9999.0 -50.255022  -2.014292   8.594566   \n",
            "4  0.010752 -0.003472  714.874023 -9999.0 -32.813834  16.331829  14.781312   \n",
            "\n",
            "   population  \n",
            "0           0  \n",
            "1           0  \n",
            "2           0  \n",
            "3           0  \n",
            "4           0  \n",
            "alphafe       0\n",
            "feh           0\n",
            "snr_a         0\n",
            "snr_g         0\n",
            "U             0\n",
            "V             0\n",
            "W             0\n",
            "population    0\n",
            "dtype: int64\n",
            "tot:42047, pop1: 16926, pop0: 25121, popNaN: 0\n",
            "42047\n"
          ]
        },
        {
          "output_type": "stream",
          "name": "stderr",
          "text": [
            "/usr/local/lib/python3.7/dist-packages/ipykernel_launcher.py:25: SettingWithCopyWarning: \n",
            "A value is trying to be set on a copy of a slice from a DataFrame.\n",
            "Try using .loc[row_indexer,col_indexer] = value instead\n",
            "\n",
            "See the caveats in the documentation: https://pandas.pydata.org/pandas-docs/stable/user_guide/indexing.html#returning-a-view-versus-a-copy\n",
            "/usr/local/lib/python3.7/dist-packages/ipykernel_launcher.py:27: SettingWithCopyWarning: \n",
            "A value is trying to be set on a copy of a slice from a DataFrame.\n",
            "Try using .loc[row_indexer,col_indexer] = value instead\n",
            "\n",
            "See the caveats in the documentation: https://pandas.pydata.org/pandas-docs/stable/user_guide/indexing.html#returning-a-view-versus-a-copy\n"
          ]
        },
        {
          "output_type": "display_data",
          "data": {
            "text/plain": [
              "<Figure size 432x288 with 1 Axes>"
            ],
            "image/png": "[encoded data removed]"
          },
          "metadata": {
            "needs_background": "light"
          }
        }
      ]
    },
    {
      "cell_type": "code",
      "source": [
        "print(dataset.shape)\n",
        "print(dataset.columns)"
      ],
      "metadata": {
        "colab": {
          "base_uri": "https://localhost:8080/"
        },
        "id": "ffy0sJnxgVei",
        "outputId": "ab0fcdf3-fc72-4400-853a-d195d02a260e"
      },
      "execution_count": 18,
      "outputs": [
        {
          "output_type": "stream",
          "name": "stdout",
          "text": [
            "(42047, 8)\n",
            "Index(['alphafe', 'feh', 'snr_a', 'snr_g', 'U', 'V', 'W', 'population'], dtype='object')\n"
          ]
        }
      ]
    },
    {
      "cell_type": "code",
      "source": [
        "\n",
        "population=dataset.pop('population')\n",
        "print(population.shape,dataset.shape)"
      ],
      "metadata": {
        "colab": {
          "base_uri": "https://localhost:8080/"
        },
        "id": "sjuciauniFc4",
        "outputId": "4ff6fbcc-e8f0-4dd0-e0db-81f0e783527a"
      },
      "execution_count": 19,
      "outputs": [
        {
          "output_type": "stream",
          "name": "stdout",
          "text": [
            "(42047,) (42047, 7)\n"
          ]
        }
      ]
    },
    {
      "cell_type": "code",
      "source": [
        "numeric_features_names=['alphafe', 'feh', 'snr_a', 'snr_g', 'U', 'V', 'W']\n",
        "numeric_features=dataset[numeric_features_names]\n",
        "numeric_features.head()"
      ],
      "metadata": {
        "colab": {
          "base_uri": "https://localhost:8080/",
          "height": 206
        },
        "id": "lFmRYvP8hTyQ",
        "outputId": "fe384efe-4d5d-4280-ce93-6760284ecb02"
      },
      "execution_count": 20,
      "outputs": [
        {
          "output_type": "execute_result",
          "data": {
            "text/plain": [
              "    alphafe       feh       snr_a   snr_g          U          V          W\n",
              "0  0.032994  0.060205  343.740997 -9999.0 -15.118205 -27.462988  23.921085\n",
              "1  0.054181 -0.299762  205.179001 -9999.0 -44.877055   1.330864  -0.352611\n",
              "2  0.036741  0.029631  171.550003 -9999.0  -8.422155 -28.833191 -16.602430\n",
              "3  0.044084 -0.314392  265.123993 -9999.0 -50.255022  -2.014292   8.594566\n",
              "4  0.010752 -0.003472  714.874023 -9999.0 -32.813834  16.331829  14.781312"
            ],
            "text/html": [
              "\n",
              "  <div id=\"df-816f9139-3e8a-45e4-95a4-470d3d3ed857\">\n",
              "    <div class=\"colab-df-container\">\n",
              "      <div>\n",
              "<style scoped>\n",
              "    .dataframe tbody tr th:only-of-type {\n",
              "        vertical-align: middle;\n",
              "    }\n",
              "\n",
              "    .dataframe tbody tr th {\n",
              "        vertical-align: top;\n",
              "    }\n",
              "\n",
              "    .dataframe thead th {\n",
              "        text-align: right;\n",
              "    }\n",
              "</style>\n",
              "<table border=\"1\" class=\"dataframe\">\n",
              "  <thead>\n",
              "    <tr style=\"text-align: right;\">\n",
              "      <th></th>\n",
              "      <th>alphafe</th>\n",
              "      <th>feh</th>\n",
              "      <th>snr_a</th>\n",
              "      <th>snr_g</th>\n",
              "      <th>U</th>\n",
              "      <th>V</th>\n",
              "      <th>W</th>\n",
              "    </tr>\n",
              "  </thead>\n",
              "  <tbody>\n",
              "    <tr>\n",
              "      <th>0</th>\n",
              "      <td>0.032994</td>\n",
              "      <td>0.060205</td>\n",
              "      <td>343.740997</td>\n",
              "      <td>-9999.0</td>\n",
              "      <td>-15.118205</td>\n",
              "      <td>-27.462988</td>\n",
              "      <td>23.921085</td>\n",
              "    </tr>\n",
              "    <tr>\n",
              "      <th>1</th>\n",
              "      <td>0.054181</td>\n",
              "      <td>-0.299762</td>\n",
              "      <td>205.179001</td>\n",
              "      <td>-9999.0</td>\n",
              "      <td>-44.877055</td>\n",
              "      <td>1.330864</td>\n",
              "      <td>-0.352611</td>\n",
              "    </tr>\n",
              "    <tr>\n",
              "      <th>2</th>\n",
              "      <td>0.036741</td>\n",
              "      <td>0.029631</td>\n",
              "      <td>171.550003</td>\n",
              "      <td>-9999.0</td>\n",
              "      <td>-8.422155</td>\n",
              "      <td>-28.833191</td>\n",
              "      <td>-16.602430</td>\n",
              "    </tr>\n",
              "    <tr>\n",
              "      <th>3</th>\n",
              "      <td>0.044084</td>\n",
              "      <td>-0.314392</td>\n",
              "      <td>265.123993</td>\n",
              "      <td>-9999.0</td>\n",
              "      <td>-50.255022</td>\n",
              "      <td>-2.014292</td>\n",
              "      <td>8.594566</td>\n",
              "    </tr>\n",
              "    <tr>\n",
              "      <th>4</th>\n",
              "      <td>0.010752</td>\n",
              "      <td>-0.003472</td>\n",
              "      <td>714.874023</td>\n",
              "      <td>-9999.0</td>\n",
              "      <td>-32.813834</td>\n",
              "      <td>16.331829</td>\n",
              "      <td>14.781312</td>\n",
              "    </tr>\n",
              "  </tbody>\n",
              "</table>\n",
              "</div>\n",
              "      <button class=\"colab-df-convert\" onclick=\"convertToInteractive('df-816f9139-3e8a-45e4-95a4-470d3d3ed857')\"\n",
              "              title=\"Convert this dataframe to an interactive table.\"\n",
              "              style=\"display:none;\">\n",
              "        \n",
              "  <svg xmlns=\"http://www.w3.org/2000/svg\" height=\"24px\"viewBox=\"0 0 24 24\"\n",
              "       width=\"24px\">\n",
              "    <path d=\"M0 0h24v24H0V0z\" fill=\"none\"/>\n",
              "    <path d=\"M18.56 5.44l.94 2.06.94-2.06 2.06-.94-2.06-.94-.94-2.06-.94 2.06-2.06.94zm-11 1L8.5 8.5l.94-2.06 2.06-.94-2.06-.94L8.5 2.5l-.94 2.06-2.06.94zm10 10l.94 2.06.94-2.06 2.06-.94-2.06-.94-.94-2.06-.94 2.06-2.06.94z\"/><path d=\"M17.41 7.96l-1.37-1.37c-.4-.4-.92-.59-1.43-.59-.52 0-1.04.2-1.43.59L10.3 9.45l-7.72 7.72c-.78.78-.78 2.05 0 2.83L4 21.41c.39.39.9.59 1.41.59.51 0 1.02-.2 1.41-.59l7.78-7.78 2.81-2.81c.8-.78.8-2.07 0-2.86zM5.41 20L4 18.59l7.72-7.72 1.47 1.35L5.41 20z\"/>\n",
              "  </svg>\n",
              "      </button>\n",
              "      \n",
              "  <style>\n",
              "    .colab-df-container {\n",
              "      display:flex;\n",
              "      flex-wrap:wrap;\n",
              "      gap: 12px;\n",
              "    }\n",
              "\n",
              "    .colab-df-convert {\n",
              "      background-color: #E8F0FE;\n",
              "      border: none;\n",
              "      border-radius: 50%;\n",
              "      cursor: pointer;\n",
              "      display: none;\n",
              "      fill: #1967D2;\n",
              "      height: 32px;\n",
              "      padding: 0 0 0 0;\n",
              "      width: 32px;\n",
              "    }\n",
              "\n",
              "    .colab-df-convert:hover {\n",
              "      background-color: #E2EBFA;\n",
              "      box-shadow: 0px 1px 2px rgba(60, 64, 67, 0.3), 0px 1px 3px 1px rgba(60, 64, 67, 0.15);\n",
              "      fill: #174EA6;\n",
              "    }\n",
              "\n",
              "    [theme=dark] .colab-df-convert {\n",
              "      background-color: #3B4455;\n",
              "      fill: #D2E3FC;\n",
              "    }\n",
              "\n",
              "    [theme=dark] .colab-df-convert:hover {\n",
              "      background-color: #434B5C;\n",
              "      box-shadow: 0px 1px 3px 1px rgba(0, 0, 0, 0.15);\n",
              "      filter: drop-shadow(0px 1px 2px rgba(0, 0, 0, 0.3));\n",
              "      fill: #FFFFFF;\n",
              "    }\n",
              "  </style>\n",
              "\n",
              "      <script>\n",
              "        const buttonEl =\n",
              "          document.querySelector('#df-816f9139-3e8a-45e4-95a4-470d3d3ed857 button.colab-df-convert');\n",
              "        buttonEl.style.display =\n",
              "          google.colab.kernel.accessAllowed ? 'block' : 'none';\n",
              "\n",
              "        async function convertToInteractive(key) {\n",
              "          const element = document.querySelector('#df-816f9139-3e8a-45e4-95a4-470d3d3ed857');\n",
              "          const dataTable =\n",
              "            await google.colab.kernel.invokeFunction('convertToInteractive',\n",
              "                                                     [key], {});\n",
              "          if (!dataTable) return;\n",
              "\n",
              "          const docLinkHtml = 'Like what you see? Visit the ' +\n",
              "            '<a target=\"_blank\" href=https://colab.research.google.com/notebooks/data_table.ipynb>data table notebook</a>'\n",
              "            + ' to learn more about interactive tables.';\n",
              "          element.innerHTML = '';\n",
              "          dataTable['output_type'] = 'display_data';\n",
              "          await google.colab.output.renderOutput(dataTable, element);\n",
              "          const docLink = document.createElement('div');\n",
              "          docLink.innerHTML = docLinkHtml;\n",
              "          element.appendChild(docLink);\n",
              "        }\n",
              "      </script>\n",
              "    </div>\n",
              "  </div>\n",
              "  "
            ]
          },
          "metadata": {},
          "execution_count": 20
        }
      ]
    },
    {
      "cell_type": "code",
      "source": [
        "inputs=keras.Input(shape=(7,),name='population')\n",
        "x=layers.Dense(64,activation='relu',name='dense_1')(inputs)\n",
        "x=layers.Dense(64,activation='relu',name='dense_2')(x)\n",
        "outputs=layers.Dense(10,activation='softmax',name='predictions')(x)"
      ],
      "metadata": {
        "id": "IuAdhJ6CIFXJ"
      },
      "execution_count": 21,
      "outputs": []
    },
    {
      "cell_type": "code",
      "source": [
        "model=keras.Model(inputs=inputs,outputs=outputs)"
      ],
      "metadata": {
        "id": "Y_OnDk1MIOoE"
      },
      "execution_count": 22,
      "outputs": []
    },
    {
      "cell_type": "code",
      "source": [
        "(x_train,y_train),(x_test,y_test)=(numeric_features,population),(numeric_features,population)"
      ],
      "metadata": {
        "id": "NaXK7Cc4JlDU"
      },
      "execution_count": 23,
      "outputs": []
    },
    {
      "cell_type": "code",
      "source": [
        "x_val = x_train[-10000:]\n",
        "y_val = y_train[-10000:]\n",
        "x_train = x_train[:-10000]\n",
        "y_train = y_train[:-10000]"
      ],
      "metadata": {
        "id": "zeLKJNcALoe1"
      },
      "execution_count": 24,
      "outputs": []
    },
    {
      "cell_type": "code",
      "source": [
        "model.compile(\n",
        "    optimizer=keras.optimizers.RMSprop(),  # Optimizer\n",
        "    # Minimize loss:\n",
        "    loss=keras.losses.SparseCategoricalCrossentropy(),\n",
        "    # Monitor metrics:\n",
        "    metrics=[keras.metrics.SparseCategoricalAccuracy()],\n",
        ")"
      ],
      "metadata": {
        "id": "K7tRDnnGLsXU"
      },
      "execution_count": 25,
      "outputs": []
    },
    {
      "cell_type": "code",
      "source": [
        "print(\"Fit model on training data\")\n",
        "history = model.fit(\n",
        "    x_train,\n",
        "    y_train,\n",
        "    batch_size=64,\n",
        "    epochs=2,\n",
        "    # Validation of loss and metrics\n",
        "    # at the end of each epoch:\n",
        "    validation_data=(x_val, y_val),\n",
        ")"
      ],
      "metadata": {
        "colab": {
          "base_uri": "https://localhost:8080/"
        },
        "id": "GOY6oEHrLweD",
        "outputId": "29432c88-4358-4d19-ef6a-432cebc9e154"
      },
      "execution_count": 26,
      "outputs": [
        {
          "output_type": "stream",
          "name": "stdout",
          "text": [
            "Fit model on training data\n",
            "Epoch 1/2\n",
            "501/501 [==============================] - 2s 3ms/step - loss: 57.3635 - sparse_categorical_accuracy: 0.6733 - val_loss: 284.8877 - val_sparse_categorical_accuracy: 0.0000e+00\n",
            "Epoch 2/2\n",
            "501/501 [==============================] - 1s 2ms/step - loss: 29.4180 - sparse_categorical_accuracy: 0.7074 - val_loss: 227.2764 - val_sparse_categorical_accuracy: 0.0012\n"
          ]
        }
      ]
    },
    {
      "cell_type": "code",
      "source": [
        "history.history"
      ],
      "metadata": {
        "colab": {
          "base_uri": "https://localhost:8080/"
        },
        "id": "3LosykDjLyq3",
        "outputId": "a2480232-44a2-4617-ade2-8eb379ff08a7"
      },
      "execution_count": 27,
      "outputs": [
        {
          "output_type": "execute_result",
          "data": {
            "text/plain": [
              "{'loss': [57.36349868774414, 29.417984008789062],\n",
              " 'sparse_categorical_accuracy': [0.6733235716819763, 0.7073673009872437],\n",
              " 'val_loss': [284.8876647949219, 227.27638244628906],\n",
              " 'val_sparse_categorical_accuracy': [0.0, 0.0012000000569969416]}"
            ]
          },
          "metadata": {},
          "execution_count": 27
        }
      ]
    },
    {
      "cell_type": "code",
      "source": [
        "print(\"Evaluate model on test data\")\n",
        "results = model.evaluate(x_test, y_test, batch_size=128)\n",
        "print(\"test loss, test acc:\", results)"
      ],
      "metadata": {
        "colab": {
          "base_uri": "https://localhost:8080/"
        },
        "id": "wb8A3b2tL5k6",
        "outputId": "98e2f60a-bd83-4caa-ecac-fa150bb674c5"
      },
      "execution_count": 28,
      "outputs": [
        {
          "output_type": "stream",
          "name": "stdout",
          "text": [
            "Evaluate model on test data\n",
            "329/329 [==============================] - 1s 3ms/step - loss: 79.4640 - sparse_categorical_accuracy: 0.6015\n",
            "test loss, test acc: [79.4639892578125, 0.6014935374259949]\n"
          ]
        }
      ]
    },
    {
      "cell_type": "code",
      "source": [
        "# Generate a prediction using model.predict() \n",
        "# and calculate it's shape:\n",
        "print(\"Generate a prediction\")\n",
        "prediction = model.predict(x_test)\n",
        "print(\"prediction shape:\", prediction.shape)"
      ],
      "metadata": {
        "colab": {
          "base_uri": "https://localhost:8080/"
        },
        "id": "Z2QM5FdYL7Xj",
        "outputId": "cdf3bc39-8c86-453d-c0aa-21a0b5718e30"
      },
      "execution_count": 31,
      "outputs": [
        {
          "output_type": "stream",
          "name": "stdout",
          "text": [
            "Generate a prediction\n",
            "1314/1314 [==============================] - 2s 1ms/step\n",
            "prediction shape: (42047, 10)\n"
          ]
        }
      ]
    },
    {
      "cell_type": "code",
      "source": [
        "print(\"Prediction: {}\".format(len(tf.argmax(prediction, axis=1))))\n",
        "print(\"    Labels: {}\".format(len(population)))"
      ],
      "metadata": {
        "colab": {
          "base_uri": "https://localhost:8080/"
        },
        "id": "WuWkftZlL931",
        "outputId": "5fe00ba5-d12e-4297-c839-15f0a706e726"
      },
      "execution_count": 38,
      "outputs": [
        {
          "output_type": "stream",
          "name": "stdout",
          "text": [
            "Prediction: 42047\n",
            "    Labels: 42047\n"
          ]
        }
      ]
    },
    {
      "cell_type": "code",
      "source": [
        "plt.plot(tf.argmax(prediction, axis=1)-population)"
      ],
      "metadata": {
        "colab": {
          "base_uri": "https://localhost:8080/",
          "height": 282
        },
        "id": "wpBZ1isUMGl_",
        "outputId": "72934c8a-852d-46b0-ab25-f3751e67d94b"
      },
      "execution_count": 41,
      "outputs": [
        {
          "output_type": "execute_result",
          "data": {
            "text/plain": [
              "[<matplotlib.lines.Line2D at 0x7fc7979d7c10>]"
            ]
          },
          "metadata": {},
          "execution_count": 41
        },
        {
          "output_type": "display_data",
          "data": {
            "text/plain": [
              "<Figure size 432x288 with 1 Axes>"
            ],
            "image/png": "[encoded data removed]"
          },
          "metadata": {
            "needs_background": "light"
          }
        }
      ]
    },
    {
      "cell_type": "code",
      "source": [],
      "metadata": {
        "id": "c93YMjmmM9rD"
      },
      "execution_count": null,
      "outputs": []
    }
  ]
}